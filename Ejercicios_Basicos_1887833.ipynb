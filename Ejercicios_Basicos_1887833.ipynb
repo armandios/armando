{
 "cells": [
  {
   "cell_type": "markdown",
   "metadata": {},
   "source": [
    "# Ejercicio 1:\n",
    "#### Realiza una variable con tu matricula y realiza una secuencia de imprimir con tu nombre y tu matricula concatenados.\n"
   ]
  },
  {
   "cell_type": "code",
   "execution_count": 11,
   "metadata": {},
   "outputs": [
    {
     "name": "stdout",
     "output_type": "stream",
     "text": [
      " Nombre: Armando Delgado Cantu\n",
      " Matricula: 1887933\n"
     ]
    }
   ],
   "source": [
    "matricula = \"1887933\"\n",
    "print (\" Nombre: Armando Delgado Cantu\\n Matricula: \" +matricula)\n"
   ]
  },
  {
   "cell_type": "markdown",
   "metadata": {},
   "source": [
    "# Ejercicio 2\n",
    "\n",
    "#### Pidiendo el input del usuario pide dos números y crea una pequeña calculadora con los operadores básicos de suma, resta, multiplicación, división, y exponente.\n",
    "\n",
    "#### Utilizando el loop de while"
   ]
  },
  {
   "cell_type": "code",
   "execution_count": null,
   "metadata": {},
   "outputs": [
    {
     "name": "stdout",
     "output_type": "stream",
     "text": [
      "Introduce número 'a': 2\n",
      "Introduce número 'b': 4\n",
      "\t1. Suma a+b\n",
      "\t2. Resta a-b\n",
      "\t3. Multiplicacion a*b\n",
      "\t4. Division a/b\n",
      "\t5. Exponente a^b\n",
      "\t6. Terminar\n",
      "\n",
      "\tOpcion que desea: 1\n",
      "\n",
      "  2 + 4 = 6\n",
      "\t1. Suma a+b\n",
      "\t2. Resta a-b\n",
      "\t3. Multiplicacion a*b\n",
      "\t4. Division a/b\n",
      "\t5. Exponente a^b\n",
      "\t6. Terminar\n",
      "\n",
      "\tOpcion que desea: 2\n",
      "\n",
      "  2 - 4 = -2\n"
     ]
    }
   ],
   "source": [
    "a = int(input(\"Introduce número 'a': \"))\n",
    "b = int(input(\"Introduce número 'b': \"))\n",
    "c1=1\n",
    "while c1 <= 5:\n",
    "    c1 = int(input(\"\\t1. Suma a+b\\n\\t2. Resta a-b\\n\\t3. Multiplicacion a*b\\n\\t4. Division a/b\\n\\t5. Exponente a^b\\n\\t6. Terminar\\n\\n\\tOpcion que desea: \"))\n",
    "    if c1==1:\n",
    "        print (\"\\n \", a, \"+\" , b, \"=\" ,(a+b))\n",
    "    if c1==2:\n",
    "        print(\"\\n \", a, \"-\" , b, \"=\" ,(a-b))\n",
    "    if c1==3:\n",
    "        print(\"\\n \", a, \"*\" , b, \"=\" ,(a*b))\n",
    "    if c1==4:\n",
    "        print(\"\\n \", a, \"/\" , b, \"=\" ,(a/b))\n",
    "    if c1==5:\n",
    "        print(\"\\n \", a, \"^\" , b, \"=\" ,(a**b))\n",
    "\n",
    "\n",
    "    \n"
   ]
  },
  {
   "cell_type": "markdown",
   "metadata": {},
   "source": [
    "# Ejercicio 3\n",
    "\n",
    "#### Con loop while o for, realiza una lista de 10 numeros multiplos de 3, y después realiza una función de loop que sume todos los números dentro del arreglo.\n"
   ]
  },
  {
   "cell_type": "code",
   "execution_count": 74,
   "metadata": {},
   "outputs": [
    {
     "name": "stdout",
     "output_type": "stream",
     "text": [
      "3\n",
      "6\n",
      "9\n",
      "12\n",
      "15\n",
      "18\n",
      "21\n",
      "24\n",
      "27\n",
      "30\n",
      "La suma de todo esto es:  165\n"
     ]
    }
   ],
   "source": [
    "suma=0\n",
    "lista = []\n",
    "for i in range(1,11):\n",
    "    lista.append((i*3))\n",
    "    suma= suma + (lista[i-1])\n",
    "    print(lista[i-1])\n",
    "    \n",
    "print (\"La suma de todo esto es: \" ,suma)  "
   ]
  },
  {
   "cell_type": "markdown",
   "metadata": {},
   "source": [
    "# Ejercicio 4\n",
    "#### Con una función de if else, revisar si un número es par o es impar.\n",
    "#### Con una función de if else, revisar si un número es primo o no."
   ]
  },
  {
   "cell_type": "code",
   "execution_count": 56,
   "metadata": {},
   "outputs": [
    {
     "name": "stdout",
     "output_type": "stream",
     "text": [
      "Que numero deseas consultar? : 90\n",
      "Es un numero NO PRIMO y PAR\n"
     ]
    }
   ],
   "source": [
    "bandera=0\n",
    "a = int(input(\"Que numero deseas consultar? : \"))\n",
    "prueba= a%2\n",
    "if prueba==0:\n",
    "    for i in range(2,a):\n",
    "        if a%i ==0:\n",
    "            bandera=1\n",
    "    \n",
    "    if bandera==0:\n",
    "        if a==2:\n",
    "            print(\"Es un numero PRIMO y PAR\")\n",
    "    else:\n",
    "        print(\"Es un numero NO PRIMO y PAR\")\n",
    "            \n",
    "else:\n",
    "    for i in range(2,a):\n",
    "        if a%i ==0:\n",
    "            bandera=1\n",
    "    \n",
    "    if bandera==1:\n",
    "        print(\"Es un numero NO PRIMO y NO PAR\")\n",
    "    else:\n",
    "        if a!=1:\n",
    "            print(\"Es un numero PRIMO y NO PAR\")\n",
    "        else:\n",
    "            print(\"Es un numero NO PRIMO y NO PAR\")\n"
   ]
  },
  {
   "cell_type": "markdown",
   "metadata": {},
   "source": [
    "# Ejercicio 5\n",
    "\n",
    "#### Utilizando diferentes clases en python, crea una calculadora con los operadores básicos de suma, resta, multiplicación, división, y exponente.\n"
   ]
  },
  {
   "cell_type": "code",
   "execution_count": 1,
   "metadata": {},
   "outputs": [
    {
     "name": "stdout",
     "output_type": "stream",
     "text": [
      "Introduce número 'a': 5\n",
      "Introduce número 'b': 5\n",
      "\t1. Suma a+b\n",
      "\t2. Resta a-b\n",
      "\t3. Multiplicacion a*b\n",
      "\t4. Division a/b\n",
      "\t5. Exponente a^b\n",
      "\t6. Terminar\n",
      "\n",
      "\tOpcion que desea: 6\n"
     ]
    }
   ],
   "source": [
    "num1 = int(input(\"Introduce número 'a': \"))\n",
    "num2 = int(input(\"Introduce número 'b': \"))\n",
    "c1=1\n",
    "def Suma(a,b):\n",
    "    c=a+b\n",
    "    return c\n",
    "def Resta(a,b):\n",
    "    c=a-b\n",
    "    return c\n",
    "def Mult(a,b):\n",
    "    c=a*b\n",
    "    return c\n",
    "def Div(a,b):\n",
    "    c=a/b\n",
    "    return c\n",
    "def Expo(a,b):\n",
    "    c=a**b\n",
    "    return c\n",
    "\n",
    "while c1 <= 5:\n",
    "    c1 = int(input(\"\\t1. Suma a+b\\n\\t2. Resta a-b\\n\\t3. Multiplicacion a*b\\n\\t4. Division a/b\\n\\t5. Exponente a^b\\n\\t6. Terminar\\n\\n\\tOpcion que desea: \"))\n",
    "    if c1==1:\n",
    "        print (\"\\n\", num1, \"+\" , num2, \"=\" ,Suma(num1,num2))\n",
    "    if c1==2:\n",
    "        print(\"\\n \", num1, \"-\" , num2, \"=\" ,Resta(num1,num2))\n",
    "    if c1==3:\n",
    "        print(\"\\n \", num1, \"*\" , num2, \"=\" ,Mult(num1,num2))\n",
    "    if c1==4:\n",
    "        print(\"\\n \", num1, \"/\" , num2, \"=\" ,Div(num1,num2))\n",
    "    if c1==5:\n",
    "        print(\"\\n \", num1, \"^\" , num2, \"=\" ,Expo(num1,num2))\n"
   ]
  },
  {
   "cell_type": "markdown",
   "metadata": {},
   "source": [
    "# Ejercicios con Estructuras Basicas de Python\n",
    "### Tuplas\n",
    "#### -Crear una variable flotante, integer, boleana y compleja e imprimir el tipo de variable que es.\n",
    "#### -Crear una tupla con valores enteros imprimir el primer y ultimo valor.\n",
    "#### -Añadir 3 valores de string a la tupla.\n",
    "#### -Verificar si una variable existe dentro de la tupla."
   ]
  },
  {
   "cell_type": "code",
   "execution_count": 6,
   "metadata": {},
   "outputs": [
    {
     "name": "stdout",
     "output_type": "stream",
     "text": [
      "Flotante---> <class 'float'>\n",
      "Entero---> <class 'int'>\n",
      "Boleana---> <class 'bool'>\n",
      "Compleja---> <class 'complex'>\n"
     ]
    }
   ],
   "source": [
    "flotante=2.5\n",
    "entero=2\n",
    "bolt,bolf = True, False\n",
    "imaginario=(-1)**(1/2)\n",
    "print(\"Flotante--->\",type(flotante))\n",
    "print(\"Entero--->\",type(entero))\n",
    "print(\"Boleana--->\",type(bolt))\n",
    "print(\"Compleja--->\",type(imaginario))"
   ]
  },
  {
   "cell_type": "code",
   "execution_count": 18,
   "metadata": {},
   "outputs": [
    {
     "name": "stdout",
     "output_type": "stream",
     "text": [
      "Primer valor-> 2 \n",
      "Ultimo Valor-> 1998\n"
     ]
    }
   ],
   "source": [
    "tupla=(2,3434,5,25,3,1998)\n",
    "print (\"Primer valor->\",tupla[0],\"\\nUltimo Valor->\",tupla[-1])"
   ]
  },
  {
   "cell_type": "code",
   "execution_count": 1,
   "metadata": {
    "scrolled": true
   },
   "outputs": [
    {
     "data": {
      "text/plain": [
       "(1, 34, 780, 43, 'mi nombre', 'es', 'armando')"
      ]
     },
     "execution_count": 1,
     "metadata": {},
     "output_type": "execute_result"
    }
   ],
   "source": [
    "tupla=(1,34,780,43)\n",
    "tupla=list(tupla)\n",
    "tupla.extend([\"mi nombre\",\"es\",\"armando\"])\n",
    "tupla=tuple(tupla)\n",
    "tupla"
   ]
  },
  {
   "cell_type": "code",
   "execution_count": 60,
   "metadata": {},
   "outputs": [
    {
     "name": "stdout",
     "output_type": "stream",
     "text": [
      "Hay un impostor en la nave\n"
     ]
    }
   ],
   "source": [
    "nave=('tripulante1', 'tripulante2','tripulante3','impostor','tripulante4')\n",
    "if (\"impostor\" in nave)==True:\n",
    "    print(\"Hay un impostor en la nave\")\n"
   ]
  },
  {
   "cell_type": "markdown",
   "metadata": {},
   "source": [
    "# Listas\n",
    "#### *Crear una lista con 40 elementos aleatorios enteros.\n",
    "\n",
    "#### *Con una funcion (def) crear dos listas nuevas a partir de la lista creada por numeros aleatorios, en la cual en una esten los elementos pares, y en la otra los elementos impares.\n",
    "\n",
    "#### *Crear dos variables con la longitud de ambas listas nuevas e imprimir las variables.\n",
    "\n",
    "#### *Ordenar los elementos de la lista par de mayor a menor, y los de la lista impar de menor a mayor.\n",
    "\n",
    "#### *Utilizar al menos cuatro de las funciones de listas en python en la lista original de 40 elementos."
   ]
  },
  {
   "cell_type": "code",
   "execution_count": 19,
   "metadata": {},
   "outputs": [
    {
     "name": "stdout",
     "output_type": "stream",
     "text": [
      "[7, 69, 26, 17, 39, 12, 48, 39, 37, 71, 41, 83, 24, 62, 74, 19, 48, 66, 95, 77, 31, 78, 43, 28, 63, 63, 5, 13, 12, 64, 93, 37, 73, 39, 23, 34, 23, 11, 79, 39]\n"
     ]
    }
   ],
   "source": [
    "import random as alazar\n",
    "lista_aleatorios=[]\n",
    "for i in range(1,41):\n",
    "    lista_aleatorios.append(alazar.randint(1,100))\n",
    "print(lista_aleatorios)"
   ]
  },
  {
   "cell_type": "code",
   "execution_count": 21,
   "metadata": {},
   "outputs": [
    {
     "name": "stdout",
     "output_type": "stream",
     "text": [
      "Lista de elementos pares:  [26, 12, 48, 24, 62, 74, 48, 66, 78, 28, 12, 64, 34] \n",
      "\n",
      "Lista de elementos impares:  [7, 69, 17, 39, 39, 37, 71, 41, 83, 19, 95, 77, 31, 43, 63, 63, 5, 13, 93, 37, 73, 39, 23, 23, 11, 79, 39]\n"
     ]
    }
   ],
   "source": [
    "def Listas(lista_aleatorios):\n",
    "    par=[]\n",
    "    impar=[]\n",
    "    for i in range(len(lista_aleatorios)):\n",
    "        if lista_aleatorios[i]%2==0:\n",
    "            par.append(lista_aleatorios[i])\n",
    "        else:\n",
    "            impar.append(lista_aleatorios[i])\n",
    "    return par,impar\n",
    "par,impar=Listas(lista_aleatorios)\n",
    "print(\"Lista de elementos pares: \", par,\"\\n\\nLista de elementos impares: \",impar)"
   ]
  },
  {
   "cell_type": "code",
   "execution_count": 22,
   "metadata": {},
   "outputs": [
    {
     "name": "stdout",
     "output_type": "stream",
     "text": [
      "Longitud de par ---> 13 \n",
      "Longitud de impar---> 27\n"
     ]
    }
   ],
   "source": [
    "lpar=len(par)\n",
    "limpar=len(impar)\n",
    "print ('Longitud de par --->',lpar,'\\nLongitud de impar--->',limpar)"
   ]
  },
  {
   "cell_type": "code",
   "execution_count": 23,
   "metadata": {},
   "outputs": [
    {
     "name": "stdout",
     "output_type": "stream",
     "text": [
      "Pares en orden descendente:  [78, 74, 66, 64, 62, 48, 48, 34, 28, 26, 24, 12, 12] \n",
      "Impares en orden ascendente:  [5, 7, 11, 13, 17, 19, 23, 23, 31, 37, 37, 39, 39, 39, 39, 41, 43, 63, 63, 69, 71, 73, 77, 79, 83, 93, 95]\n"
     ]
    }
   ],
   "source": [
    "par.sort(reverse=True)      \n",
    "impar.sort()\n",
    "print(\"Pares en orden descendente: \", par,\"\\nImpares en orden ascendente: \",impar)"
   ]
  },
  {
   "cell_type": "code",
   "execution_count": 33,
   "metadata": {},
   "outputs": [
    {
     "name": "stdout",
     "output_type": "stream",
     "text": [
      "El numero 12 se encuentra en el la lista y esta en la posicion: 5\n",
      "El ultimo dato de la lista es: 39\n",
      "El numero 12 se encuentra en la lista 2 veces\n",
      "Se ha eliminado al dato:  11\n"
     ]
    }
   ],
   "source": [
    "print (\"El numero 12 se encuentra en el la lista y esta en la posicion:\", lista_aleatorios.index(12))\n",
    "numerito=len(lista_aleatorios)\n",
    "print (\"El ultimo dato de la lista es:\",lista_aleatorios[numerito-1])\n",
    "print (\"El numero 12 se encuentra en la lista\", lista_aleatorios.count(12), \"veces\") \n",
    "print ('Se ha eliminado al dato: ',lista_aleatorios.pop(37))"
   ]
  },
  {
   "cell_type": "markdown",
   "metadata": {},
   "source": [
    "# Diccionarios\n",
    "#### *Crear un diccionario de 6 personas que conozcas con su primer nombre y su edad.\n",
    "#### *Crear una lista con los valores de la edad y reacomodar la lista de menor a mayor valor.\n",
    "#### *Usando el diccionario y un loop, imprimir solo los nombres.\n",
    "#### *Añadir dos personas nuevas a tu diccionario, incluyendo edad."
   ]
  },
  {
   "cell_type": "code",
   "execution_count": 36,
   "metadata": {},
   "outputs": [
    {
     "name": "stdout",
     "output_type": "stream",
     "text": [
      "{'Armando': 22, 'Luisa': 21, 'Paco': 24, 'Alejandro': 12, 'Patricia': 50, 'Omar': 21}\n"
     ]
    }
   ],
   "source": [
    "diccionario={'Armando':22,'Luisa':21,'Paco':24,'Alejandro':12,'Patricia':50,'Omar':21}\n",
    "print (diccionario)"
   ]
  },
  {
   "cell_type": "code",
   "execution_count": 37,
   "metadata": {},
   "outputs": [
    {
     "name": "stdout",
     "output_type": "stream",
     "text": [
      "[12, 21, 21, 22, 24, 50]\n"
     ]
    }
   ],
   "source": [
    "edad=[i for i in diccionario.values()]\n",
    "edad.sort()\n",
    "print(edad)"
   ]
  },
  {
   "cell_type": "code",
   "execution_count": 39,
   "metadata": {},
   "outputs": [
    {
     "name": "stdout",
     "output_type": "stream",
     "text": [
      "Armando\n",
      "Luisa\n",
      "Paco\n",
      "Alejandro\n",
      "Patricia\n",
      "Omar\n"
     ]
    }
   ],
   "source": [
    "for i in diccionario:\n",
    "    print (i)"
   ]
  },
  {
   "cell_type": "code",
   "execution_count": 40,
   "metadata": {},
   "outputs": [
    {
     "name": "stdout",
     "output_type": "stream",
     "text": [
      "{'Armando': 22, 'Luisa': 21, 'Paco': 24, 'Alejandro': 12, 'Patricia': 50, 'Omar': 21, 'Max': 25, 'Marco': 11}\n"
     ]
    }
   ],
   "source": [
    "diccionario['Max']=25\n",
    "diccionario['Marco']=11\n",
    "print(diccionario)"
   ]
  },
  {
   "cell_type": "markdown",
   "metadata": {},
   "source": [
    "# Sets\n",
    "#### *Crea un set con 100 numeros aleatorios enteros del 1 al 25.\n",
    "#### *Comprueba la longitud de tu set.\n",
    "#### *Crea una lista de 5 numeros aleatorios del 1 al 10 y comprueba si cada valor aparece en el set inicial."
   ]
  },
  {
   "cell_type": "code",
   "execution_count": 45,
   "metadata": {},
   "outputs": [
    {
     "name": "stdout",
     "output_type": "stream",
     "text": [
      "[14, 20, 16, 12, 21, 2, 3, 16, 23, 23, 23, 10, 25, 16, 11, 25, 12, 1, 21, 10, 9, 24, 5, 17, 23, 1, 3, 18, 7, 8, 15, 17, 5, 14, 5, 16, 22, 18, 9, 17, 25, 22, 12, 20, 11, 1, 12, 22, 16, 1, 25, 4, 5, 20, 21, 4, 19, 17, 13, 9, 2, 20, 12, 14, 2, 4, 8, 1, 1, 17, 15, 22, 20, 23, 8, 20, 25, 1, 1, 10, 15, 18, 6, 10, 22, 24, 17, 15, 22, 12, 12, 18, 21, 21, 19, 10, 11, 21, 2, 4]\n"
     ]
    }
   ],
   "source": [
    "miset=[]\n",
    "for i in range(1,101):\n",
    "    miset.append(alazar.randint(1,25))\n",
    "print (miset)    \n"
   ]
  },
  {
   "cell_type": "code",
   "execution_count": 46,
   "metadata": {},
   "outputs": [
    {
     "name": "stdout",
     "output_type": "stream",
     "text": [
      "Longitud del set 100\n"
     ]
    }
   ],
   "source": [
    "print ('Longitud del set',len(miset))"
   ]
  },
  {
   "cell_type": "code",
   "execution_count": 49,
   "metadata": {},
   "outputs": [
    {
     "name": "stdout",
     "output_type": "stream",
     "text": [
      "[9, 3, 5, 9, 9]\n",
      "El numero  9  SI esta en miset\n",
      "El numero  3  SI esta en miset\n",
      "El numero  5  SI esta en miset\n",
      "El numero  9  SI esta en miset\n",
      "El numero  9  SI esta en miset\n"
     ]
    }
   ],
   "source": [
    "lista5=[]\n",
    "for i in range(1,6):\n",
    "    lista5.append(alazar.randint(1,10))\n",
    "print(lista5)\n",
    "\n",
    "for i in range(5):\n",
    "    if lista5[i] in miset:\n",
    "        print(\"El numero \",lista5[i],\" SI esta en miset\")\n",
    "    else:\n",
    "        print(\"El numero \",lista5[i],\" NO esta en miset\")\n",
    "    "
   ]
  }
 ],
 "metadata": {
  "kernelspec": {
   "display_name": "Python 3",
   "language": "python",
   "name": "python3"
  },
  "language_info": {
   "codemirror_mode": {
    "name": "ipython",
    "version": 3
   },
   "file_extension": ".py",
   "mimetype": "text/x-python",
   "name": "python",
   "nbconvert_exporter": "python",
   "pygments_lexer": "ipython3",
   "version": "3.8.3"
  }
 },
 "nbformat": 4,
 "nbformat_minor": 4
}
